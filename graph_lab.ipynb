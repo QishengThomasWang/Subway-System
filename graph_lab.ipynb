{
 "cells": [
  {
   "cell_type": "markdown",
   "id": "2d65a8a5-860e-41d8-ac27-fabb65da8243",
   "metadata": {},
   "source": [
    "# Graph Lab"
   ]
  },
  {
   "cell_type": "markdown",
   "id": "0287692e-0294-4c54-8ad3-c8d8425ab85c",
   "metadata": {},
   "source": [
    "## Header information:\n",
    "\n",
    "  - Author #1: Thomas Wang (wangq157@mcmaster.ca)\n",
    "  - Author #2: Cieran Diebolt (dieboltc@mcmaster.ca)\n",
    "  - Gitlab URL: https://gitlab.cas.mcmaster.ca/wangq157/l1-graph-lab\n",
    "  - Avenue to Learn group name: Group 37\n",
    "\n",
    "  We split the work evently, both contributing and understanding the code, each writing sections of the code and helping one another. We both wrote the report and contributed towards the brainstorming of ideas for what went well, challenges, and next steps. Overall, we just need better time management skills to complete each weekly task in order to complete everything to a higher standard that we both wish to achieve."
   ]
  },
  {
   "cell_type": "markdown",
   "id": "d930eca9-bac7-44ed-b626-037b948c8a9b",
   "metadata": {},
   "source": [
    "## Introduction\n",
    "Throughout this project, we began to write our code initially in a single python file, including all the classes and methods. It soon dawned on us that it would be difficult to make our code readable and understandable with such a compact format of writing our code, thus making it difficult to expand and maintain it. In order to capture our design and limit any excessive coupling, we chose to separate our files into different python files, which together, help mold our code into one cohesive structure that tackles the various design problems and challenges we faced throughout this lab. Those files include: AStar.py, Benchmark.py, Dijkstra.py, Graph.py, GraphBuilder.py, MetricExtractor.py, PriorityQueue.py"
   ]
  },
  {
   "cell_type": "markdown",
   "id": "47ce847e",
   "metadata": {},
   "source": [
    "## Design Choices\n",
    "### AStar.py\n",
    "\n",
    "AStar.py follows the single-purpose principle and the open-close principle. By using a __call__ method for this class, no modification can be made to the program through its parameters while calling it. A* uses a heuristic here based on real distance between the current node being compared and the goal node and selects the next closest node to the goal to continually make progress toward the end, finding the real distance shortest path. AStar.py prints the length of the path taken, the execution time, and returns the number of comparisons to our benchmark functions. The two methods within, get_comparisons and get_path return their respective variables within the class."
   ]
  },
  {
   "cell_type": "markdown",
   "id": "782b7d8c",
   "metadata": {},
   "source": [
    "### Benchmark.py\n",
    "\n",
    "Benchmark.py follows the similar SOLID principles where it follows the single responsibility principle where it follows the single responsibility principle as the only focus/purpose is to output the benchmark, which compares both Dijkstras and A* algorithms. Furthermore, it follows the open closed principle as the creation of any benchmarking graph/comparison of the two algorithms doesn’t rely on the specific implementations within either of those classes, but rather, simply the result of its execution. Because of this, it can be seen that Benchmark doesn’t is independent of other classes and functions\n",
    "\n"
   ]
  },
  {
   "cell_type": "markdown",
   "id": "e189e943",
   "metadata": {},
   "source": [
    "### Dijkstras.py\n",
    "\n",
    "Dijkstras.py implements the created graphand uses the priority queue function and graphs created to analyze the shortest path from one point to another. Using the __call__ function instantiates the function along with all the possible vertices that have been calculated/found in Graph.py and GraphBuilder.py. Furthermore, it checks the different edge weights which have been stored from the given files to determine whether a line/edge of the graph should be relaxed. Despite the coupling that exists Dijkstras still follows the single responsibility principle where this class only fulfills one single responsibility of finding the shortest path. Using the get_path and get_comparison functions, we are able to see the number of comparisons and the optimal path to get from one station to another.\n"
   ]
  },
  {
   "cell_type": "markdown",
   "id": "be75064c",
   "metadata": {},
   "source": [
    "### Graph.py\n",
    "\n",
    "The Graph.py file consists of 3 different classes; Node, Station, and Graph. These three classes all fulfill the purpose of initializing each of the different components needed to create the graph. Node and Station utilize self to instantiate information needed to form the data for each node. The concept of node and station are synonymous in this project, but the class Node finds the specific station ID, whereas the Station function stores all the data for each station.  Furthermore, the Graph class contains several functions where add_edge, add_stations are used to help add the edges and stations to the graph. In the same class, print_AL, get_neighbours, and a_star_heuristics are used to further develop the other classes that require the information to find the shortest paths. Using this concept of creating the basic uses of graphs, the code is open for extension, when other classes may need modifications on creating/finding the shortest path between stations. Despite the code being open for extension, they are closed for modification, meaning that the individual classes and their function aren’t subject to change for any class that may require them. By following SOLID principles, we are able to create classes that can help facilitate the development of more complex classes and functions. \n"
   ]
  },
  {
   "cell_type": "markdown",
   "id": "4fd3b5fe",
   "metadata": {},
   "source": [
    "### GraphBuilder.py\n",
    "\n",
    "GraphBuilder.py utilizes the factory design pattern to initiate a basic graph format that enables the use of the information from the Graph.py file to specifically read the data from the 3 given CSV files. The purpose of a factory object is to create other objects as varying ‘prototypes’/variations of the basic object. Using the GraphBuilderFactory and GraphBuilder, These two classes instantiate the builder and factory for the graph object. Furthermore, the London class refers to this specific project’s scenario and it utilizes the extracted values from the CSV files. This enforces the open closed principle where other graphs can be built using the same factory but the factory pattern itself doesn’t change and encapsulates the changes to be propagated onto new objects. Furthermore, it ensures single responsibility as each task and creation is based on the specific format given from the Factory and is separated from the implementation of other purposes. \n"
   ]
  },
  {
   "cell_type": "markdown",
   "id": "d514e877",
   "metadata": {},
   "source": [
    "### MetricExtractor.py\n",
    "\n",
    "Using the Matplotlib library, MetricExtractor creates a graph based on the frequency of the number of degrees each station has. This class has 2 functions, the create_axis and create_plot, and they both serve to create a visual display of the frequency in degrees. The create axis function utilizes loops to find the max degree and iterate through the list of every station’s degree from the adjacency list and find the frequency of each, incrementing the count each time. Create_plot simply creates the graph with the x_axis and y_axis data once the loops have terminated and all the data for count/frequency and the max_degree have been found. \n"
   ]
  },
  {
   "cell_type": "markdown",
   "id": "2f855d9f",
   "metadata": {},
   "source": [
    "### PriorityQueue.py\n",
    "PriorityQueue.py is a textbook implementation of a priority queue with an empty check, an insertion method, a delete method for deleting and returning the largest element, a delete minimum method for deleting and returning the smallest element, and a contains method which returns a boolean of whether an element is within the priority queue or not. It follows the single-purpose and open-close principles as it only implements the priority queue and is never modified, nor even called outside of Dijkstra.py. This class is required for our Dijkstra.py file which takes advantage of the delete minimum method in the priority queue to find the shortest path between two nodes.\n"
   ]
  },
  {
   "cell_type": "markdown",
   "id": "6cdcf9ab",
   "metadata": {},
   "source": [
    "## UML Diagram\n",
    "\n",
    "Before near the beginning of the lab, we did not have all that many classes, and the classes that we did have were very simplified and basic. Initially, we only had 3 classes, GraphBuilder, Graph, and MetricsExtractor. With only these 3 classes, we were not able to fully portray the different elements of the project as we hadn't added the more complex components such as the shortest path problems. Furthermore, these classes weren't fully written out and had a strong reliance on Graph builder, thus not fulfilling the low coupling principle. Due to this, we had to drastically improve upon our code. With this in mind, we added the other classes that completed our structure and the project. \n",
    "\n",
    "Later on, when we added a PriorityQueue, Dijkstras, AStar, and Benchmark, we could really see how our code worked in a cohesive manner. First of all, everything still had a reliance on the Factory design pattern that we had newly implemented in GraphBuilder, but it was no longer depending on the info from the CSV files as that was now stored in a class variable which can be easily accessible. Additionally it became clear as to which classes have a dependence on one another and we were able to clearly structure it such that there was minimal coupling, while satisfying the SOLID principles of single responsibility, where one class performed one, and only one task effeciently. In addition to single responsibility, we made the code follow the open-close principle, as it is open to extension due to the implementation of the Factory design pattern, and closed for modification as each class's function would not be affected by external extensions to the code. Overall, this is clearly illustrated through our class diagrams from the progress UML Diagrams. "
   ]
  },
  {
   "cell_type": "markdown",
   "id": "055348cd",
   "metadata": {},
   "source": [
    "## Benchmarking\n",
    "During the benchmarking process, our group agreed that number of node comparisons as well as execution time were two vital KPIs to measure for our implementation. Number of node comparisons translates over to the amount of processor work required to run those comparisons, and also contributes heavily to our second KPI. Execution time is of course a vital KPI to measure, as certain scenarios require that a program runs in less time than a maximum, and certain safety critical systems require this or else there can be potentially catastrophic consequences. \n",
    "\n",
    "The cases for benchmarking we felt were to be measured were a longer path through the system, a “general” case, and a single edge path case. This way, we can see the number of comparisons and the execution time of A* and Dijkstra’s algorithm in a “worst case”, an average case, and the “best case”. \n",
    "\n",
    "You can see below the printed results - they return the length of the path, execution time, and the path itself - as well as the plotted number of comparisons for each algorithm in each case.\n",
    "\n",
    "run -i “benchmark.py”\n"
   ]
  },
  {
   "cell_type": "markdown",
   "id": "b402522f",
   "metadata": {},
   "source": [
    "## Conclusion, Challenges and Next Steps\n",
    "Throughout this project, there are many things that we felt like went well as well as areas we wish could have improved upon. Some of the points we felt like were well done was the implementation of adjacency lists, Dijkstras, and A*. With these concepts being slightly difficult to implement, we were able to conceptualize and use them to an effective manner. Furthermore, we felt like the collaboration part of this project helped us cover each other’s weaknesses and teach each other concepts that we would have individually found difficult to grasp. Lastly, we found that with the guidance of the TA’s and the Q&A section, we were able to reinforce our understanding of SOLID principles and design patterns that can be used to reinforce and strengthen the legibility and understandability of the code. \n",
    "\n",
    "In terms of the challenges we faced, one of the most prevalent ones is the fact that there were certain elements that we didn’t consider and over considered utilizing when we initially started writing our code. Certain factors such as how we will calculate the total number of degrees for each of the stations and the frequency for each degree count. \n",
    "\n",
    "Furthermore, another challenge we faced was having not modularized our code since the beginning because it would allow us to organize our code and their responsibilities in accordance with SOLID principles in a more efficient fashion. Because it took a while to organize the code upon writing everything. \n",
    "\n",
    "Another significant challenge that we ran into was the fact that we initially had to pass in the csv file and extract the data manually for each class, but we fixed this issue by having it universally done in a particular class that was shared amongst all of the other classes, which made the code more coupled but a lot more readable and legible.\n",
    "\n",
    "For next steps, we believe that our time management skills and ensuring that all weekly tasks are completed on time would be one of our most major improvements for the next project. We felt that we were too overwhelmed at first, and didn’t know how to continue with the work, thus kept putting things off. Even still attempting to perfect our code rather than writing the bulk of it down prohibited us from completing the entirety of the project and missed out on a lot of learning opportunities. We would also like to implement interfaces next time while using the factory design pattern and attempt to implement the strategy design pattern because these design patterns would allow us to make our code more expandable and more reliable in future. Overall, we had a lot of takeaways from this project and look forward to working on the next project down the road\n"
   ]
  },
  {
   "cell_type": "markdown",
   "id": "30f14751",
   "metadata": {},
   "source": [
    "## Self Reflection: Thomas Wang \n",
    "### Backward: Have you done a similar kind of work in the past? \n",
    "Previously, we worked on similar projects that required the implementation of software design principles. This was a course that we took in our second year, SFWRENG 2AA4, where we were given small projects and asked to apply design patterns and SOLID principles to modularize and make our code readable. In those projects, we learned about various design principles, such as single responsibility principle and open-closed principles. Like the previous projects we did in 2AA4, we were given a brief guideline and framework for writing our code. In this specific project, we need to make the code open to modification, to support any design requirements that may be added, but at the same time make it closed for modification, make it such that changes don’t affect the classes overall. This could only be done through dividing the code into different files each with their own responsibilities. By this comparison, the work from 2AA4 and 3XB3 are similar despite the code being written in different languages. \n",
    "\n",
    "### Inward: How do you feel about this piece of work? What parts do you particularly like? Dislike? Why? \n",
    "This being the first 3XB3 lab of the year, there were many parts of our projects that I was proud of as well as certain aspects that I felt like we could have improved upon. Something I felt like we did well was understanding and implementing methods to extract data from CSV files. This having been a new type of data storing file, we learned a lot by tinkering with the potential ways of storing this data. We found it to be creative to use an adjacency list to store the data, allowing us to easily access and understand the relationship between the given columns of data. Furthermore, our understanding of the design problems, and ability to implement both algorithms, Dijkstra’s and A*, was reinforced through its implementation. By using the adjacency list and the implementation of these concepts, I believe that collectively this was something that I was proud of. Something that I dislike/would prefer is to have a more organized and structured implementation of the code. I wish we could implement more design patterns and have a more creative use of our code, where there could be more variety in the methods to store and utilize the information that we need. Additionally, I wish the code were spread out across more files as this would make the code more legible and easily understandable. \n",
    "\t\n",
    "### Outward: What is the one thing you particularly want people to notice about your work? \n",
    "Something I would like people to notice about our work is the effort that my partner and I put into writing and implementing the code for this project. Having faced several challenges such as finding the ideal way to demonstrate our understanding of the question, we had to debug our code consistently to make it work. Furthermore, I hope people would notice the organizational structure of our code, that demonstrates each of the required responsibilities. With all of the code being organized in structure, all the information needed is easily accessible, making it readable to any audience. \n",
    "\n",
    "### Forward: What would you change if you had the chance to do this project over again? \n",
    "If there was something that I could change if I had the chance to redo this project, it would be to manage my time more effectively. The main problem that I found is that I felt like the project was doable in a shorter period of time than it actually needed, so it made for quite a stressful work environment during the last few days. Additionally, I would also make sure to fully understand the different tasks, questions, and aspects of the entire project before proceeding. I found this to be a challenge because all the parts to a big project are connected, thus having a better understanding of what needed to be done would be more effective. An example of this would be when we didn’t store all the required information at the beginning because we didn’t see the use in week one, but later on come to find that we did need aspects of the information from the CSV files and it took some time to figure out where exactly to add it and how. By having read all the instructions carefully, we would have been able to see this need ahead of time and save ourselves the hassle. \n"
   ]
  },
  {
   "cell_type": "markdown",
   "id": "8424c63d",
   "metadata": {},
   "source": [
    "## Self Reflection: Cieran Diebolt\n",
    "### Backward: Have you done a similar kind of work in the past?\n",
    "The programming principles and required design patterns and methods have all been taught to us and utilized by us in previous years. The object-oriented principles we are using in this lab to generate objects such as graphs, graph builders, metric extractors and algorithm objects which perform actions upon our graph object were all taught to us in 2OP3, object-oriented programming, and were further expanded on and bound to practice by 2AA4, introduction to software development. However, in the scope of Python and programming in general, I have never had to tackle such a huge task. \n",
    "Python is not a language I was well versed in at the beginning of this project, and I never thought to tackle a project with it until it was required, so the implementation and syntax used during this lab were very new to me, some of it vaguely remembered from 1P13, the engineering 1 course, but mostly it was learning a new language and then being asked to program the hardest task ever asked of me; it was challenging and I loved it.\n",
    "\n",
    "### Inward: How do you feel about this piece of work? What parts do you particularly like? Dislike? Why?\n",
    "I feel like my lack of experience in Python and my personal misunderstanding of the project led to a bad start, and thus a poor base to build the rest of the code off. However, with that in mind, I feel like the flexibility of both my partner and I while implementing the program led to a unique solution and even when based on less-than-perfect code, our solution generates what was asked of it.\n",
    "The parts of our implementation I particularly enjoy are the AStar and Dijkstra implementation, while the method of data storage isn’t “textbook”, the algorithms work nonetheless and again, do what is asked. I also enjoyed the properly object-oriented implementation of the graph builder using the factory design pattern, after implementing that and looking back on the code I felt a sense of pride in the sleek nature of the method calls and argument passing.\n",
    "\n",
    "Things I dislike about this piece of work: the adjacency list representation and the graph method reliances. The adjacency list was implemented as a linked list structure, which isn’t a bad thing on its own, but when paired with the want to find neighbors of nodes and also the storage of edges (which wasn’t done in our project because of this linked list), it was a poor design choice and led to a lot of headaches and setbacks. Also, the graph method reliances upset me, the fact that they rely purely and solely on correct inputs from the graph builder seems like a design flaw to me, and while I look at it without an idea as to how to improve it I constantly feel like I am invalidating some part of SOLID design.\n",
    "\n",
    "### Outward: What is one thing you particularly want people to notice about your work?\n",
    "I especially want people to notice the flexibility of our solution in relation to the aforementioned linked list implementation of the adjacency list. The rest of the project hinged on getting the information from the list in an efficient, and of course correct, manner, and it worked using a tried and tested while loop. It was especially challenging while implementing the algorithms, A* and Dijkstras, which relied heavily on either edge information (which again we didn’t store normally due to the linked list) or adjacency list as a list of lists, so getting something working out of the linked list implementation was really something I hope people can look at and appreciate.\n",
    "\n",
    "### Forward: What would you change if you had the chance to do this project over again?\n",
    "If I had the chance to redo this project, I would approach it with a more planned out and object-oriented approach. After spending too much time trying to figure out what was actually being asked of us we took a bad first step and immediately began implementation with no plan on how to approach and maintain the code properly. This led to a great deal of confusion and miscommunication between myself and my project partner, which ultimately boiled down into time management issues, lack of understanding, and creation of additional problems. Given the chance, I would devote myself more to understanding at the start, communicate clearly with my group mate on our approach to the solution and then in parallel, implement code following the SOLID principles. \n",
    "Additionally, I would make a much more headstrong attempt at understanding the assignment during the first lab period with as much assistance from the TA as necessary. A lack of time definitely became a factor in our group’s shortfalls due to time management, however having more time of course would’ve helped this case.\n"
   ]
  },
  {
   "cell_type": "markdown",
   "id": "ef26b646",
   "metadata": {},
   "source": []
  }
 ],
 "metadata": {
  "kernelspec": {
   "display_name": "Python 3.10.7 64-bit",
   "language": "python",
   "name": "python3"
  },
  "language_info": {
   "codemirror_mode": {
    "name": "ipython",
    "version": 3
   },
   "file_extension": ".py",
   "mimetype": "text/x-python",
   "name": "python",
   "nbconvert_exporter": "python",
   "pygments_lexer": "ipython3",
   "version": "3.10.7"
  },
  "vscode": {
   "interpreter": {
    "hash": "aee8b7b246df8f9039afb4144a1f6fd8d2ca17a180786b69acc140d282b71a49"
   }
  }
 },
 "nbformat": 4,
 "nbformat_minor": 5
}
